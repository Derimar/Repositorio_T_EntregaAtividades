{
  "nbformat": 4,
  "nbformat_minor": 0,
  "metadata": {
    "colab": {
      "name": "somaDoisNumeros.ipynb",
      "provenance": [],
      "collapsed_sections": [],
      "authorship_tag": "ABX9TyNzR0X0VI8nvu6URU22MjwY",
      "include_colab_link": true
    },
    "kernelspec": {
      "name": "python3",
      "display_name": "Python 3"
    },
    "language_info": {
      "name": "python"
    }
  },
  "cells": [
    {
      "cell_type": "markdown",
      "metadata": {
        "id": "view-in-github",
        "colab_type": "text"
      },
      "source": [
        "<a href=\"https://colab.research.google.com/github/Derimar/Repositorio_T_EntregaAtividades/blob/main/somaDoisNumeros.ipynb\" target=\"_parent\"><img src=\"https://colab.research.google.com/assets/colab-badge.svg\" alt=\"Open In Colab\"/></a>"
      ]
    },
    {
      "cell_type": "code",
      "execution_count": 6,
      "metadata": {
        "colab": {
          "base_uri": "https://localhost:8080/"
        },
        "id": "V_FkTvusJNwV",
        "outputId": "a36c8e05-cc76-4565-949b-03c7548973b1"
      },
      "outputs": [
        {
          "output_type": "stream",
          "name": "stdout",
          "text": [
            "digite um numero2\n",
            "digite um numero3\n",
            "a soma entre:  2 e o numero 3 é igual:  5\n"
          ]
        }
      ],
      "source": [
        "3soma entre dois numeros e mostrando o resultado\n",
        "\n",
        "n1= int (input('digite um numero'))\n",
        "\n",
        "n2= int (input('digite um numero'))\n",
        "\n",
        "soma = n1+n2\n",
        "\n",
        "print('a soma entre: ', n1, 'e o numero', n2, 'é igual: ', soma) \n"
      ]
    }
  ]
}